{
 "cells": [
  {
   "cell_type": "markdown",
   "metadata": {
    "collapsed": true,
    "deletable": true,
    "editable": true
   },
   "source": [
    "## Introduction\n",
    "\n",
    "The primary purpose of this notebook is to explore how to clean an csv dataset and add it a SQLite database.  And then become more comfortable with SQLite by performing quires and data normalization.  \n",
    "\n",
    "The dataset is collection of stats on the academy awards, located [here](https://www.aggdata.com/awards/oscar)\n",
    "\n",
    "\n",
    "First read in the data and explore a bit:"
   ]
  },
  {
   "cell_type": "code",
   "execution_count": 69,
   "metadata": {
    "collapsed": false,
    "deletable": true,
    "editable": true
   },
   "outputs": [
    {
     "data": {
      "text/html": [
       "<div>\n",
       "<table border=\"1\" class=\"dataframe\">\n",
       "  <thead>\n",
       "    <tr style=\"text-align: right;\">\n",
       "      <th></th>\n",
       "      <th>Year</th>\n",
       "      <th>Category</th>\n",
       "      <th>Nominee</th>\n",
       "      <th>Additional Info</th>\n",
       "      <th>Won?</th>\n",
       "      <th>Unnamed: 5</th>\n",
       "      <th>Unnamed: 6</th>\n",
       "      <th>Unnamed: 7</th>\n",
       "      <th>Unnamed: 8</th>\n",
       "      <th>Unnamed: 9</th>\n",
       "      <th>Unnamed: 10</th>\n",
       "    </tr>\n",
       "  </thead>\n",
       "  <tbody>\n",
       "    <tr>\n",
       "      <th>0</th>\n",
       "      <td>2010 (83rd)</td>\n",
       "      <td>Actor -- Leading Role</td>\n",
       "      <td>Javier Bardem</td>\n",
       "      <td>Biutiful {'Uxbal'}</td>\n",
       "      <td>NO</td>\n",
       "      <td>NaN</td>\n",
       "      <td>NaN</td>\n",
       "      <td>NaN</td>\n",
       "      <td>NaN</td>\n",
       "      <td>NaN</td>\n",
       "      <td>NaN</td>\n",
       "    </tr>\n",
       "    <tr>\n",
       "      <th>1</th>\n",
       "      <td>2010 (83rd)</td>\n",
       "      <td>Actor -- Leading Role</td>\n",
       "      <td>Jeff Bridges</td>\n",
       "      <td>True Grit {'Rooster Cogburn'}</td>\n",
       "      <td>NO</td>\n",
       "      <td>NaN</td>\n",
       "      <td>NaN</td>\n",
       "      <td>NaN</td>\n",
       "      <td>NaN</td>\n",
       "      <td>NaN</td>\n",
       "      <td>NaN</td>\n",
       "    </tr>\n",
       "    <tr>\n",
       "      <th>2</th>\n",
       "      <td>2010 (83rd)</td>\n",
       "      <td>Actor -- Leading Role</td>\n",
       "      <td>Jesse Eisenberg</td>\n",
       "      <td>The Social Network {'Mark Zuckerberg'}</td>\n",
       "      <td>NO</td>\n",
       "      <td>NaN</td>\n",
       "      <td>NaN</td>\n",
       "      <td>NaN</td>\n",
       "      <td>NaN</td>\n",
       "      <td>NaN</td>\n",
       "      <td>NaN</td>\n",
       "    </tr>\n",
       "    <tr>\n",
       "      <th>3</th>\n",
       "      <td>2010 (83rd)</td>\n",
       "      <td>Actor -- Leading Role</td>\n",
       "      <td>Colin Firth</td>\n",
       "      <td>The King's Speech {'King George VI'}</td>\n",
       "      <td>YES</td>\n",
       "      <td>NaN</td>\n",
       "      <td>NaN</td>\n",
       "      <td>NaN</td>\n",
       "      <td>NaN</td>\n",
       "      <td>NaN</td>\n",
       "      <td>NaN</td>\n",
       "    </tr>\n",
       "    <tr>\n",
       "      <th>4</th>\n",
       "      <td>2010 (83rd)</td>\n",
       "      <td>Actor -- Leading Role</td>\n",
       "      <td>James Franco</td>\n",
       "      <td>127 Hours {'Aron Ralston'}</td>\n",
       "      <td>NO</td>\n",
       "      <td>NaN</td>\n",
       "      <td>NaN</td>\n",
       "      <td>NaN</td>\n",
       "      <td>NaN</td>\n",
       "      <td>NaN</td>\n",
       "      <td>NaN</td>\n",
       "    </tr>\n",
       "    <tr>\n",
       "      <th>5</th>\n",
       "      <td>2010 (83rd)</td>\n",
       "      <td>Actor -- Supporting Role</td>\n",
       "      <td>Christian Bale</td>\n",
       "      <td>The Fighter {'Dicky Eklund'}</td>\n",
       "      <td>YES</td>\n",
       "      <td>NaN</td>\n",
       "      <td>NaN</td>\n",
       "      <td>NaN</td>\n",
       "      <td>NaN</td>\n",
       "      <td>NaN</td>\n",
       "      <td>NaN</td>\n",
       "    </tr>\n",
       "    <tr>\n",
       "      <th>6</th>\n",
       "      <td>2010 (83rd)</td>\n",
       "      <td>Actor -- Supporting Role</td>\n",
       "      <td>John Hawkes</td>\n",
       "      <td>Winter's Bone {'Teardrop'}</td>\n",
       "      <td>NO</td>\n",
       "      <td>NaN</td>\n",
       "      <td>NaN</td>\n",
       "      <td>NaN</td>\n",
       "      <td>NaN</td>\n",
       "      <td>NaN</td>\n",
       "      <td>NaN</td>\n",
       "    </tr>\n",
       "    <tr>\n",
       "      <th>7</th>\n",
       "      <td>2010 (83rd)</td>\n",
       "      <td>Actor -- Supporting Role</td>\n",
       "      <td>Jeremy Renner</td>\n",
       "      <td>The Town {'James Coughlin'}</td>\n",
       "      <td>NO</td>\n",
       "      <td>NaN</td>\n",
       "      <td>NaN</td>\n",
       "      <td>NaN</td>\n",
       "      <td>NaN</td>\n",
       "      <td>NaN</td>\n",
       "      <td>NaN</td>\n",
       "    </tr>\n",
       "    <tr>\n",
       "      <th>8</th>\n",
       "      <td>2010 (83rd)</td>\n",
       "      <td>Actor -- Supporting Role</td>\n",
       "      <td>Mark Ruffalo</td>\n",
       "      <td>The Kids Are All Right {'Paul'}</td>\n",
       "      <td>NO</td>\n",
       "      <td>NaN</td>\n",
       "      <td>NaN</td>\n",
       "      <td>NaN</td>\n",
       "      <td>NaN</td>\n",
       "      <td>NaN</td>\n",
       "      <td>NaN</td>\n",
       "    </tr>\n",
       "    <tr>\n",
       "      <th>9</th>\n",
       "      <td>2010 (83rd)</td>\n",
       "      <td>Actor -- Supporting Role</td>\n",
       "      <td>Geoffrey Rush</td>\n",
       "      <td>The King's Speech {'Lionel Logue'}</td>\n",
       "      <td>NO</td>\n",
       "      <td>NaN</td>\n",
       "      <td>NaN</td>\n",
       "      <td>NaN</td>\n",
       "      <td>NaN</td>\n",
       "      <td>NaN</td>\n",
       "      <td>NaN</td>\n",
       "    </tr>\n",
       "    <tr>\n",
       "      <th>10</th>\n",
       "      <td>2010 (83rd)</td>\n",
       "      <td>Actress -- Leading Role</td>\n",
       "      <td>Annette Bening</td>\n",
       "      <td>The Kids Are All Right {'Nic'}</td>\n",
       "      <td>NO</td>\n",
       "      <td>NaN</td>\n",
       "      <td>NaN</td>\n",
       "      <td>NaN</td>\n",
       "      <td>NaN</td>\n",
       "      <td>NaN</td>\n",
       "      <td>NaN</td>\n",
       "    </tr>\n",
       "    <tr>\n",
       "      <th>11</th>\n",
       "      <td>2010 (83rd)</td>\n",
       "      <td>Actress -- Leading Role</td>\n",
       "      <td>Nicole Kidman</td>\n",
       "      <td>Rabbit Hole {'Becca'}</td>\n",
       "      <td>NO</td>\n",
       "      <td>NaN</td>\n",
       "      <td>NaN</td>\n",
       "      <td>NaN</td>\n",
       "      <td>NaN</td>\n",
       "      <td>NaN</td>\n",
       "      <td>NaN</td>\n",
       "    </tr>\n",
       "    <tr>\n",
       "      <th>12</th>\n",
       "      <td>2010 (83rd)</td>\n",
       "      <td>Actress -- Leading Role</td>\n",
       "      <td>Jennifer Lawrence</td>\n",
       "      <td>Winter's Bone {'Ree'}</td>\n",
       "      <td>NO</td>\n",
       "      <td>NaN</td>\n",
       "      <td>NaN</td>\n",
       "      <td>NaN</td>\n",
       "      <td>NaN</td>\n",
       "      <td>NaN</td>\n",
       "      <td>NaN</td>\n",
       "    </tr>\n",
       "    <tr>\n",
       "      <th>13</th>\n",
       "      <td>2010 (83rd)</td>\n",
       "      <td>Actress -- Leading Role</td>\n",
       "      <td>Natalie Portman</td>\n",
       "      <td>Black Swan {'Nina Sayers/The Swan Queen'}</td>\n",
       "      <td>YES</td>\n",
       "      <td>NaN</td>\n",
       "      <td>NaN</td>\n",
       "      <td>NaN</td>\n",
       "      <td>NaN</td>\n",
       "      <td>NaN</td>\n",
       "      <td>NaN</td>\n",
       "    </tr>\n",
       "    <tr>\n",
       "      <th>14</th>\n",
       "      <td>2010 (83rd)</td>\n",
       "      <td>Actress -- Leading Role</td>\n",
       "      <td>Michelle Williams</td>\n",
       "      <td>Blue Valentine {'Cindy'}</td>\n",
       "      <td>NO</td>\n",
       "      <td>NaN</td>\n",
       "      <td>NaN</td>\n",
       "      <td>NaN</td>\n",
       "      <td>NaN</td>\n",
       "      <td>NaN</td>\n",
       "      <td>NaN</td>\n",
       "    </tr>\n",
       "    <tr>\n",
       "      <th>15</th>\n",
       "      <td>2010 (83rd)</td>\n",
       "      <td>Actress -- Supporting Role</td>\n",
       "      <td>Amy Adams</td>\n",
       "      <td>The Fighter {'Charlene Fleming'}</td>\n",
       "      <td>NO</td>\n",
       "      <td>NaN</td>\n",
       "      <td>NaN</td>\n",
       "      <td>NaN</td>\n",
       "      <td>NaN</td>\n",
       "      <td>NaN</td>\n",
       "      <td>NaN</td>\n",
       "    </tr>\n",
       "    <tr>\n",
       "      <th>16</th>\n",
       "      <td>2010 (83rd)</td>\n",
       "      <td>Actress -- Supporting Role</td>\n",
       "      <td>Helena Bonham Carter</td>\n",
       "      <td>The King's Speech {'Queen Elizabeth'}</td>\n",
       "      <td>NO</td>\n",
       "      <td>NaN</td>\n",
       "      <td>NaN</td>\n",
       "      <td>NaN</td>\n",
       "      <td>NaN</td>\n",
       "      <td>NaN</td>\n",
       "      <td>NaN</td>\n",
       "    </tr>\n",
       "    <tr>\n",
       "      <th>17</th>\n",
       "      <td>2010 (83rd)</td>\n",
       "      <td>Actress -- Supporting Role</td>\n",
       "      <td>Melissa Leo</td>\n",
       "      <td>The Fighter {'Alice Ward'}</td>\n",
       "      <td>YES</td>\n",
       "      <td>NaN</td>\n",
       "      <td>NaN</td>\n",
       "      <td>NaN</td>\n",
       "      <td>NaN</td>\n",
       "      <td>NaN</td>\n",
       "      <td>NaN</td>\n",
       "    </tr>\n",
       "    <tr>\n",
       "      <th>18</th>\n",
       "      <td>2010 (83rd)</td>\n",
       "      <td>Actress -- Supporting Role</td>\n",
       "      <td>Hailee Steinfeld</td>\n",
       "      <td>True Grit {'Mattie Ross'}</td>\n",
       "      <td>NO</td>\n",
       "      <td>NaN</td>\n",
       "      <td>NaN</td>\n",
       "      <td>NaN</td>\n",
       "      <td>NaN</td>\n",
       "      <td>NaN</td>\n",
       "      <td>NaN</td>\n",
       "    </tr>\n",
       "    <tr>\n",
       "      <th>19</th>\n",
       "      <td>2010 (83rd)</td>\n",
       "      <td>Actress -- Supporting Role</td>\n",
       "      <td>Jacki Weaver</td>\n",
       "      <td>Animal Kingdom {'Janine 'Smurf' Cody'}</td>\n",
       "      <td>NO</td>\n",
       "      <td>NaN</td>\n",
       "      <td>NaN</td>\n",
       "      <td>NaN</td>\n",
       "      <td>NaN</td>\n",
       "      <td>NaN</td>\n",
       "      <td>NaN</td>\n",
       "    </tr>\n",
       "  </tbody>\n",
       "</table>\n",
       "</div>"
      ],
      "text/plain": [
       "           Year                    Category               Nominee  \\\n",
       "0   2010 (83rd)       Actor -- Leading Role         Javier Bardem   \n",
       "1   2010 (83rd)       Actor -- Leading Role          Jeff Bridges   \n",
       "2   2010 (83rd)       Actor -- Leading Role       Jesse Eisenberg   \n",
       "3   2010 (83rd)       Actor -- Leading Role           Colin Firth   \n",
       "4   2010 (83rd)       Actor -- Leading Role          James Franco   \n",
       "5   2010 (83rd)    Actor -- Supporting Role        Christian Bale   \n",
       "6   2010 (83rd)    Actor -- Supporting Role           John Hawkes   \n",
       "7   2010 (83rd)    Actor -- Supporting Role         Jeremy Renner   \n",
       "8   2010 (83rd)    Actor -- Supporting Role          Mark Ruffalo   \n",
       "9   2010 (83rd)    Actor -- Supporting Role         Geoffrey Rush   \n",
       "10  2010 (83rd)     Actress -- Leading Role        Annette Bening   \n",
       "11  2010 (83rd)     Actress -- Leading Role         Nicole Kidman   \n",
       "12  2010 (83rd)     Actress -- Leading Role     Jennifer Lawrence   \n",
       "13  2010 (83rd)     Actress -- Leading Role       Natalie Portman   \n",
       "14  2010 (83rd)     Actress -- Leading Role     Michelle Williams   \n",
       "15  2010 (83rd)  Actress -- Supporting Role             Amy Adams   \n",
       "16  2010 (83rd)  Actress -- Supporting Role  Helena Bonham Carter   \n",
       "17  2010 (83rd)  Actress -- Supporting Role           Melissa Leo   \n",
       "18  2010 (83rd)  Actress -- Supporting Role      Hailee Steinfeld   \n",
       "19  2010 (83rd)  Actress -- Supporting Role          Jacki Weaver   \n",
       "\n",
       "                              Additional Info Won? Unnamed: 5 Unnamed: 6  \\\n",
       "0                          Biutiful {'Uxbal'}   NO        NaN        NaN   \n",
       "1               True Grit {'Rooster Cogburn'}   NO        NaN        NaN   \n",
       "2      The Social Network {'Mark Zuckerberg'}   NO        NaN        NaN   \n",
       "3        The King's Speech {'King George VI'}  YES        NaN        NaN   \n",
       "4                  127 Hours {'Aron Ralston'}   NO        NaN        NaN   \n",
       "5                The Fighter {'Dicky Eklund'}  YES        NaN        NaN   \n",
       "6                  Winter's Bone {'Teardrop'}   NO        NaN        NaN   \n",
       "7                 The Town {'James Coughlin'}   NO        NaN        NaN   \n",
       "8             The Kids Are All Right {'Paul'}   NO        NaN        NaN   \n",
       "9          The King's Speech {'Lionel Logue'}   NO        NaN        NaN   \n",
       "10             The Kids Are All Right {'Nic'}   NO        NaN        NaN   \n",
       "11                      Rabbit Hole {'Becca'}   NO        NaN        NaN   \n",
       "12                      Winter's Bone {'Ree'}   NO        NaN        NaN   \n",
       "13  Black Swan {'Nina Sayers/The Swan Queen'}  YES        NaN        NaN   \n",
       "14                   Blue Valentine {'Cindy'}   NO        NaN        NaN   \n",
       "15           The Fighter {'Charlene Fleming'}   NO        NaN        NaN   \n",
       "16      The King's Speech {'Queen Elizabeth'}   NO        NaN        NaN   \n",
       "17                 The Fighter {'Alice Ward'}  YES        NaN        NaN   \n",
       "18                  True Grit {'Mattie Ross'}   NO        NaN        NaN   \n",
       "19     Animal Kingdom {'Janine 'Smurf' Cody'}   NO        NaN        NaN   \n",
       "\n",
       "   Unnamed: 7 Unnamed: 8 Unnamed: 9 Unnamed: 10  \n",
       "0         NaN        NaN        NaN         NaN  \n",
       "1         NaN        NaN        NaN         NaN  \n",
       "2         NaN        NaN        NaN         NaN  \n",
       "3         NaN        NaN        NaN         NaN  \n",
       "4         NaN        NaN        NaN         NaN  \n",
       "5         NaN        NaN        NaN         NaN  \n",
       "6         NaN        NaN        NaN         NaN  \n",
       "7         NaN        NaN        NaN         NaN  \n",
       "8         NaN        NaN        NaN         NaN  \n",
       "9         NaN        NaN        NaN         NaN  \n",
       "10        NaN        NaN        NaN         NaN  \n",
       "11        NaN        NaN        NaN         NaN  \n",
       "12        NaN        NaN        NaN         NaN  \n",
       "13        NaN        NaN        NaN         NaN  \n",
       "14        NaN        NaN        NaN         NaN  \n",
       "15        NaN        NaN        NaN         NaN  \n",
       "16        NaN        NaN        NaN         NaN  \n",
       "17        NaN        NaN        NaN         NaN  \n",
       "18        NaN        NaN        NaN         NaN  \n",
       "19        NaN        NaN        NaN         NaN  "
      ]
     },
     "execution_count": 69,
     "metadata": {},
     "output_type": "execute_result"
    },
    {
     "data": {
      "text/plain": [
       "*                                                                   9\n",
       " flexibility and water resistance                                   1\n",
       " direct radiator bass style cinema loudspeaker systems. [Sound]\"    1\n",
       " sympathetic                                                        1\n",
       "Name: Unnamed: 6, dtype: int64"
      ]
     },
     "execution_count": 69,
     "metadata": {},
     "output_type": "execute_result"
    },
    {
     "data": {
      "text/plain": [
       "*                                                     1\n",
       " while requiring no dangerous solvents. [Systems]\"    1\n",
       " kindly                                               1\n",
       "Name: Unnamed: 7, dtype: int64"
      ]
     },
     "execution_count": 69,
     "metadata": {},
     "output_type": "execute_result"
    },
    {
     "data": {
      "text/plain": [
       "*                                                 1\n",
       " understanding comedy genius - Mack Sennett.\"\"    1\n",
       "Name: Unnamed: 8, dtype: int64"
      ]
     },
     "execution_count": 69,
     "metadata": {},
     "output_type": "execute_result"
    },
    {
     "data": {
      "text/plain": [
       "*    1\n",
       "Name: Unnamed: 9, dtype: int64"
      ]
     },
     "execution_count": 69,
     "metadata": {},
     "output_type": "execute_result"
    },
    {
     "data": {
      "text/plain": [
       "*    1\n",
       "Name: Unnamed: 10, dtype: int64"
      ]
     },
     "execution_count": 69,
     "metadata": {},
     "output_type": "execute_result"
    }
   ],
   "source": [
    "import pandas as pd\n",
    "\n",
    "from IPython.core.interactiveshell import InteractiveShell\n",
    "InteractiveShell.ast_node_interactivity = \"all\"\n",
    "\n",
    "data = pd.read_csv(\"academy_awards.csv\", encoding=\"ISO-8859-1\")\n",
    "\n",
    "data.head(20)\n",
    "\n",
    "for col in data.ix[:,6:11]:\n",
    "    data[col].value_counts()\n"
   ]
  },
  {
   "cell_type": "markdown",
   "metadata": {
    "collapsed": true,
    "deletable": true,
    "editable": true
   },
   "source": [
    "This dataset is pretty messy.  Many columns have strange/multiple formatting aspects.  Like the additional info column.  If this dataset is going to be transformed into a SQLite database a lot of the columns have to be cleaned.\n",
    "\n",
    "First the year column and some filtering:"
   ]
  },
  {
   "cell_type": "markdown",
   "metadata": {
    "deletable": true,
    "editable": true
   },
   "source": [
    "## Filtering and Cleaning"
   ]
  },
  {
   "cell_type": "code",
   "execution_count": 70,
   "metadata": {
    "collapsed": false,
    "deletable": true,
    "editable": true
   },
   "outputs": [],
   "source": [
    "data['Year'] = data['Year'].str[0:4]\n",
    "data['Year'] = data['Year'].astype(\"int64\")\n",
    "\n",
    "later_than_2000 = data[data['Year'] > 2000]"
   ]
  },
  {
   "cell_type": "code",
   "execution_count": 71,
   "metadata": {
    "collapsed": false,
    "deletable": true,
    "editable": true
   },
   "outputs": [],
   "source": [
    "award_categories = ['Actor -- Leading Role','Actor -- Supporting Role','Actress -- Leading Role','Actress -- Supporting Role']\n",
    "\n",
    "nominations = later_than_2000[later_than_2000[\"Category\"].isin(award_categories)]"
   ]
  },
  {
   "cell_type": "markdown",
   "metadata": {
    "deletable": true,
    "editable": true
   },
   "source": [
    "## Cleaning cont. Won? and Unnamed Cols"
   ]
  },
  {
   "cell_type": "code",
   "execution_count": 72,
   "metadata": {
    "collapsed": false,
    "deletable": true,
    "editable": true,
    "scrolled": true
   },
   "outputs": [
    {
     "name": "stderr",
     "output_type": "stream",
     "text": [
      "/home/cjsweeten101/DataQuest/DataQuestProjects/AcademyAwards/venv/lib/python3.4/site-packages/ipykernel/__main__.py:6: SettingWithCopyWarning: \n",
      "A value is trying to be set on a copy of a slice from a DataFrame.\n",
      "Try using .loc[row_indexer,col_indexer] = value instead\n",
      "\n",
      "See the caveats in the documentation: http://pandas.pydata.org/pandas-docs/stable/indexing.html#indexing-view-versus-copy\n",
      "/home/cjsweeten101/DataQuest/DataQuestProjects/AcademyAwards/venv/lib/python3.4/site-packages/ipykernel/__main__.py:7: SettingWithCopyWarning: \n",
      "A value is trying to be set on a copy of a slice from a DataFrame.\n",
      "Try using .loc[row_indexer,col_indexer] = value instead\n",
      "\n",
      "See the caveats in the documentation: http://pandas.pydata.org/pandas-docs/stable/indexing.html#indexing-view-versus-copy\n"
     ]
    }
   ],
   "source": [
    "map_values = {\n",
    "    \"NO\":0,\n",
    "    \"YES\":1\n",
    "}\n",
    "\n",
    "nominations['Won?'] = nominations['Won?'].map(map_values)\n",
    "nominations['Won'] = nominations['Won?']\n",
    "\n",
    "drop_cols = [\"Won?\",\"Unnamed: 5\", \"Unnamed: 6\",\"Unnamed: 7\", \"Unnamed: 8\", \"Unnamed: 9\", \"Unnamed: 10\"]\n",
    "\n",
    "final_nominations = nominations.drop(drop_cols, axis=1)"
   ]
  },
  {
   "cell_type": "code",
   "execution_count": 73,
   "metadata": {
    "collapsed": false,
    "deletable": true,
    "editable": true
   },
   "outputs": [
    {
     "data": {
      "text/html": [
       "<div>\n",
       "<table border=\"1\" class=\"dataframe\">\n",
       "  <thead>\n",
       "    <tr style=\"text-align: right;\">\n",
       "      <th></th>\n",
       "      <th>Year</th>\n",
       "      <th>Category</th>\n",
       "      <th>Nominee</th>\n",
       "      <th>Additional Info</th>\n",
       "      <th>Won</th>\n",
       "    </tr>\n",
       "  </thead>\n",
       "  <tbody>\n",
       "    <tr>\n",
       "      <th>0</th>\n",
       "      <td>2010</td>\n",
       "      <td>Actor -- Leading Role</td>\n",
       "      <td>Javier Bardem</td>\n",
       "      <td>Biutiful {'Uxbal'}</td>\n",
       "      <td>0</td>\n",
       "    </tr>\n",
       "    <tr>\n",
       "      <th>1</th>\n",
       "      <td>2010</td>\n",
       "      <td>Actor -- Leading Role</td>\n",
       "      <td>Jeff Bridges</td>\n",
       "      <td>True Grit {'Rooster Cogburn'}</td>\n",
       "      <td>0</td>\n",
       "    </tr>\n",
       "    <tr>\n",
       "      <th>2</th>\n",
       "      <td>2010</td>\n",
       "      <td>Actor -- Leading Role</td>\n",
       "      <td>Jesse Eisenberg</td>\n",
       "      <td>The Social Network {'Mark Zuckerberg'}</td>\n",
       "      <td>0</td>\n",
       "    </tr>\n",
       "  </tbody>\n",
       "</table>\n",
       "</div>"
      ],
      "text/plain": [
       "   Year               Category          Nominee  \\\n",
       "0  2010  Actor -- Leading Role    Javier Bardem   \n",
       "1  2010  Actor -- Leading Role     Jeff Bridges   \n",
       "2  2010  Actor -- Leading Role  Jesse Eisenberg   \n",
       "\n",
       "                          Additional Info  Won  \n",
       "0                      Biutiful {'Uxbal'}    0  \n",
       "1           True Grit {'Rooster Cogburn'}    0  \n",
       "2  The Social Network {'Mark Zuckerberg'}    0  "
      ]
     },
     "execution_count": 73,
     "metadata": {},
     "output_type": "execute_result"
    }
   ],
   "source": [
    "final_nominations.head(3)"
   ]
  },
  {
   "cell_type": "markdown",
   "metadata": {
    "deletable": true,
    "editable": true
   },
   "source": [
    "## Cleaning Additional Info"
   ]
  },
  {
   "cell_type": "code",
   "execution_count": 74,
   "metadata": {
    "collapsed": false,
    "deletable": true,
    "editable": true
   },
   "outputs": [
    {
     "data": {
      "text/html": [
       "<div>\n",
       "<table border=\"1\" class=\"dataframe\">\n",
       "  <thead>\n",
       "    <tr style=\"text-align: right;\">\n",
       "      <th></th>\n",
       "      <th>Year</th>\n",
       "      <th>Category</th>\n",
       "      <th>Nominee</th>\n",
       "      <th>Won</th>\n",
       "      <th>Movie</th>\n",
       "      <th>Character</th>\n",
       "    </tr>\n",
       "  </thead>\n",
       "  <tbody>\n",
       "    <tr>\n",
       "      <th>0</th>\n",
       "      <td>2010</td>\n",
       "      <td>Actor -- Leading Role</td>\n",
       "      <td>Javier Bardem</td>\n",
       "      <td>0</td>\n",
       "      <td>Biutiful</td>\n",
       "      <td>Uxbal</td>\n",
       "    </tr>\n",
       "    <tr>\n",
       "      <th>1</th>\n",
       "      <td>2010</td>\n",
       "      <td>Actor -- Leading Role</td>\n",
       "      <td>Jeff Bridges</td>\n",
       "      <td>0</td>\n",
       "      <td>True Grit</td>\n",
       "      <td>Rooster Cogburn</td>\n",
       "    </tr>\n",
       "    <tr>\n",
       "      <th>2</th>\n",
       "      <td>2010</td>\n",
       "      <td>Actor -- Leading Role</td>\n",
       "      <td>Jesse Eisenberg</td>\n",
       "      <td>0</td>\n",
       "      <td>The Social Network</td>\n",
       "      <td>Mark Zuckerberg</td>\n",
       "    </tr>\n",
       "  </tbody>\n",
       "</table>\n",
       "</div>"
      ],
      "text/plain": [
       "   Year               Category          Nominee  Won               Movie  \\\n",
       "0  2010  Actor -- Leading Role    Javier Bardem    0            Biutiful   \n",
       "1  2010  Actor -- Leading Role     Jeff Bridges    0           True Grit   \n",
       "2  2010  Actor -- Leading Role  Jesse Eisenberg    0  The Social Network   \n",
       "\n",
       "         Character  \n",
       "0            Uxbal  \n",
       "1  Rooster Cogburn  \n",
       "2  Mark Zuckerberg  "
      ]
     },
     "execution_count": 74,
     "metadata": {},
     "output_type": "execute_result"
    }
   ],
   "source": [
    "additional_info_one = final_nominations['Additional Info'].str.rstrip(\"'}\")\n",
    "additional_info_two = additional_info_one.str.split(\" {'\")\n",
    "\n",
    "movie_names = additional_info_two.str[0]\n",
    "characters = additional_info_two.str[1]\n",
    "\n",
    "final_nominations['Movie'] = movie_names\n",
    "final_nominations['Character'] = characters\n",
    "\n",
    "final_nominations = final_nominations.drop(['Additional Info'], axis=1)\n",
    "\n",
    "final_nominations.head(3)"
   ]
  },
  {
   "cell_type": "markdown",
   "metadata": {
    "deletable": true,
    "editable": true
   },
   "source": [
    "## Convert to SQLite Database"
   ]
  },
  {
   "cell_type": "code",
   "execution_count": 75,
   "metadata": {
    "collapsed": false,
    "deletable": true,
    "editable": true
   },
   "outputs": [],
   "source": [
    "import sqlite3 as sql\n",
    "\n",
    "conn = sql.connect(\"nominations.db\")\n",
    "\n",
    "#Database is already created on my local environment\n",
    "final_nominations.to_sql('nominations', conn, index=False)"
   ]
  },
  {
   "cell_type": "code",
   "execution_count": 76,
   "metadata": {
    "collapsed": false,
    "deletable": true,
    "editable": true
   },
   "outputs": [
    {
     "name": "stdout",
     "output_type": "stream",
     "text": [
      "(0, 'Year', 'INTEGER', 0, None, 0)\n",
      "(1, 'Category', 'TEXT', 0, None, 0)\n",
      "(2, 'Nominee', 'TEXT', 0, None, 0)\n",
      "(3, 'Won', 'INTEGER', 0, None, 0)\n",
      "(4, 'Movie', 'TEXT', 0, None, 0)\n",
      "(5, 'Character', 'TEXT', 0, None, 0)\n",
      "(2010, 'Actor -- Leading Role', 'Javier Bardem', 0, 'Biutiful', 'Uxbal')\n",
      "(2010, 'Actor -- Leading Role', 'Jeff Bridges', 0, 'True Grit', 'Rooster Cogburn')\n",
      "(2010, 'Actor -- Leading Role', 'Jesse Eisenberg', 0, 'The Social Network', 'Mark Zuckerberg')\n",
      "(2010, 'Actor -- Leading Role', 'Colin Firth', 1, \"The King's Speech\", 'King George VI')\n",
      "(2010, 'Actor -- Leading Role', 'James Franco', 0, '127 Hours', 'Aron Ralston')\n",
      "(2010, 'Actor -- Supporting Role', 'Christian Bale', 1, 'The Fighter', 'Dicky Eklund')\n",
      "(2010, 'Actor -- Supporting Role', 'John Hawkes', 0, \"Winter's Bone\", 'Teardrop')\n",
      "(2010, 'Actor -- Supporting Role', 'Jeremy Renner', 0, 'The Town', 'James Coughlin')\n",
      "(2010, 'Actor -- Supporting Role', 'Mark Ruffalo', 0, 'The Kids Are All Right', 'Paul')\n",
      "(2010, 'Actor -- Supporting Role', 'Geoffrey Rush', 0, \"The King's Speech\", 'Lionel Logue')\n"
     ]
    }
   ],
   "source": [
    "schema = conn.execute(\"pragma table_info(nominations)\").fetchall()\n",
    "first_ten = conn.execute(\"select * from nominations limit 10\").fetchall()\n",
    "\n",
    "for item in schema:\n",
    "    print(item)\n",
    "for item in first_ten:\n",
    "    print(item)"
   ]
  },
  {
   "cell_type": "markdown",
   "metadata": {
    "deletable": true,
    "editable": true
   },
   "source": [
    "## Add a ceremonies table\n",
    "\n",
    "For the sake of doing more interesting analysis, and to become more comfortable with one-to-many relationships in SQL, lets add another table.\n",
    "\n",
    "This table will contain information on the overall ceremony, the host and year.  \n",
    "\n",
    "This information is simply grabbed from [Wikipedia](https://en.wikipedia.org/wiki/List_of_Academy_Awards_ceremonies#Ceremonies)"
   ]
  },
  {
   "cell_type": "code",
   "execution_count": 77,
   "metadata": {
    "collapsed": false,
    "deletable": true,
    "editable": true
   },
   "outputs": [
    {
     "data": {
      "text/plain": [
       "<sqlite3.Cursor at 0x7fad16590ea0>"
      ]
     },
     "execution_count": 77,
     "metadata": {},
     "output_type": "execute_result"
    },
    {
     "data": {
      "text/plain": [
       "<sqlite3.Cursor at 0x7fad16590650>"
      ]
     },
     "execution_count": 77,
     "metadata": {},
     "output_type": "execute_result"
    },
    {
     "data": {
      "text/plain": [
       "[(1, 2010, 'Steve Martin'),\n",
       " (2, 2009, 'Hugh Jackman'),\n",
       " (3, 2008, 'Jon Stewart'),\n",
       " (4, 2007, 'Ellen DeGeneres'),\n",
       " (5, 2006, 'Jon Stewart'),\n",
       " (6, 2005, 'Chris Rock'),\n",
       " (7, 2004, 'Billy Crystal'),\n",
       " (8, 2003, 'Steve Martin'),\n",
       " (9, 2002, 'Whoopi Goldberg'),\n",
       " (10, 2001, 'Steve Martin')]"
      ]
     },
     "execution_count": 77,
     "metadata": {},
     "output_type": "execute_result"
    }
   ],
   "source": [
    "conn.execute(\"create table ceremonies (id integer PRIMARY KEY, Year integer, Host text);\")\n",
    "\n",
    "years_hosts = [(2010, \"Steve Martin\"),\n",
    "               (2009, \"Hugh Jackman\"),\n",
    "               (2008, \"Jon Stewart\"),\n",
    "               (2007, \"Ellen DeGeneres\"),\n",
    "               (2006, \"Jon Stewart\"),\n",
    "               (2005, \"Chris Rock\"),\n",
    "               (2004, \"Billy Crystal\"),\n",
    "               (2003, \"Steve Martin\"),\n",
    "               (2002, \"Whoopi Goldberg\"),\n",
    "               (2001, \"Steve Martin\"),\n",
    "               (2000, \"Billy Crystal\"),\n",
    "            ]\n",
    "insert_query = \"insert into ceremonies (Year, Host) values (?,?);\"\n",
    "\n",
    "conn.executemany(insert_query, years_hosts)\n",
    "\n",
    "conn.execute(\"select * from ceremonies limit 10\").fetchall()\n",
    "conn.close()"
   ]
  },
  {
   "cell_type": "markdown",
   "metadata": {
    "collapsed": true,
    "deletable": true,
    "editable": true
   },
   "source": [
    "## Setting up The Relationship\n",
    "\n",
    "So it turns out you can't just remove columns from a table with SQLite, or even change its schema.   May have to something a little convoluted"
   ]
  },
  {
   "cell_type": "code",
   "execution_count": 78,
   "metadata": {
    "collapsed": false,
    "deletable": true,
    "editable": true
   },
   "outputs": [
    {
     "data": {
      "text/plain": [
       "<sqlite3.Cursor at 0x7fad16590d50>"
      ]
     },
     "execution_count": 78,
     "metadata": {},
     "output_type": "execute_result"
    },
    {
     "data": {
      "text/plain": [
       "<sqlite3.Cursor at 0x7fad16590ea0>"
      ]
     },
     "execution_count": 78,
     "metadata": {},
     "output_type": "execute_result"
    },
    {
     "data": {
      "text/plain": [
       "<sqlite3.Cursor at 0x7fad1647b180>"
      ]
     },
     "execution_count": 78,
     "metadata": {},
     "output_type": "execute_result"
    },
    {
     "data": {
      "text/plain": [
       "[]"
      ]
     },
     "execution_count": 78,
     "metadata": {},
     "output_type": "execute_result"
    }
   ],
   "source": [
    "conn = sql.connect(\"nominations.db\")\n",
    "conn.execute(\"pragma foreign_keys = ON;\")\n",
    "\n",
    "create_nominations_two = '''create table nominations_two \n",
    "(id integer primary key, \n",
    "category text, \n",
    "nominee text, \n",
    "movie text, \n",
    "character text, \n",
    "won text,\n",
    "ceremony_id integer,\n",
    "foreign key(ceremony_id) references ceremonies(id));\n",
    "'''\n",
    "\n",
    "nom_query = '''\n",
    "select ceremonies.id as ceremony_id, nominations.category as category, \n",
    "nominations.nominee as nominee, nominations.movie as movie, \n",
    "nominations.character as character, nominations.won as won\n",
    "from nominations\n",
    "inner join ceremonies \n",
    "on nominations.year == ceremonies.year\n",
    ";\n",
    "'''\n",
    "joined_nominations = conn.execute(nom_query).fetchall()\n",
    "\n",
    "conn.execute(create_nominations_two)\n",
    "\n",
    "insert_nominations_two = '''insert into nominations_two (ceremony_id, category, nominee, movie, character, won) \n",
    "values (?,?,?,?,?,?);\n",
    "'''\n",
    "\n",
    "conn.executemany(insert_nominations_two, joined_nominations)\n",
    "conn.execute(\"select * from nominations_two limit 3;\")"
   ]
  },
  {
   "cell_type": "markdown",
   "metadata": {
    "deletable": true,
    "editable": true
   },
   "source": [
    "## Deleting and Renaming"
   ]
  },
  {
   "cell_type": "code",
   "execution_count": 79,
   "metadata": {
    "collapsed": false,
    "deletable": true,
    "editable": true
   },
   "outputs": [
    {
     "data": {
      "text/plain": [
       "<sqlite3.Cursor at 0x7fad16590650>"
      ]
     },
     "execution_count": 79,
     "metadata": {},
     "output_type": "execute_result"
    },
    {
     "data": {
      "text/plain": [
       "<sqlite3.Cursor at 0x7fad16590ea0>"
      ]
     },
     "execution_count": 79,
     "metadata": {},
     "output_type": "execute_result"
    }
   ],
   "source": [
    "conn.execute(\"drop table nominations\")\n",
    "conn.execute(\"alter table nominations_two rename to nominations\")"
   ]
  },
  {
   "cell_type": "markdown",
   "metadata": {
    "collapsed": true,
    "deletable": true,
    "editable": true
   },
   "source": [
    "## Creating a Join Table"
   ]
  },
  {
   "cell_type": "code",
   "execution_count": 80,
   "metadata": {
    "collapsed": false
   },
   "outputs": [
    {
     "data": {
      "text/plain": [
       "<sqlite3.Cursor at 0x7fad16590f10>"
      ]
     },
     "execution_count": 80,
     "metadata": {},
     "output_type": "execute_result"
    },
    {
     "data": {
      "text/plain": [
       "<sqlite3.Cursor at 0x7fad16590b20>"
      ]
     },
     "execution_count": 80,
     "metadata": {},
     "output_type": "execute_result"
    },
    {
     "data": {
      "text/plain": [
       "<sqlite3.Cursor at 0x7fad16590650>"
      ]
     },
     "execution_count": 80,
     "metadata": {},
     "output_type": "execute_result"
    }
   ],
   "source": [
    "conn.execute('''create table movies(\n",
    "id integer primary key,\n",
    "movie text);\n",
    "''')\n",
    "\n",
    "conn.execute('''create table actors(\n",
    "id integer primary key,\n",
    "actor text);\n",
    "''')\n",
    "\n",
    "conn.execute('''create table movies_actors(\n",
    "id integer primary key,\n",
    "movie_id integer references movies(id),\n",
    "actor_id integer references actors(id)\n",
    ");''')"
   ]
  }
 ],
 "metadata": {
  "kernelspec": {
   "display_name": "Python 3",
   "language": "python",
   "name": "python3"
  },
  "language_info": {
   "codemirror_mode": {
    "name": "ipython",
    "version": 3
   },
   "file_extension": ".py",
   "mimetype": "text/x-python",
   "name": "python",
   "nbconvert_exporter": "python",
   "pygments_lexer": "ipython3",
   "version": "3.4.5"
  }
 },
 "nbformat": 4,
 "nbformat_minor": 2
}
